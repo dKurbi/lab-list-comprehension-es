{
 "cells": [
  {
   "cell_type": "markdown",
   "metadata": {},
   "source": [
    "# List Comprehensions\n",
    "\n",
    "Completa el siguiente conjunto de ejercicios para solidificar tu conocimiento sobre las comprensiones de lista."
   ]
  },
  {
   "cell_type": "code",
   "execution_count": 1,
   "metadata": {},
   "outputs": [],
   "source": [
    "import os"
   ]
  },
  {
   "cell_type": "markdown",
   "metadata": {},
   "source": [
    "#### 1. Usa una list comprehension para crear e imprimir una lista de enteros consecutivos que comience con 1 y termine con 50."
   ]
  },
  {
   "cell_type": "code",
   "execution_count": 2,
   "metadata": {},
   "outputs": [
    {
     "name": "stdout",
     "output_type": "stream",
     "text": [
      "[1, 2, 3, 4, 5, 6, 7, 8, 9, 10, 11, 12, 13, 14, 15, 16, 17, 18, 19, 20, 21, 22, 23, 24, 25, 26, 27, 28, 29, 30, 31, 32, 33, 34, 35, 36, 37, 38, 39, 40, 41, 42, 43, 44, 45, 46, 47, 48, 49, 50]\n"
     ]
    }
   ],
   "source": [
    "list_int = [i for i in range(1,51)]\n",
    "print (list_int)\n"
   ]
  },
  {
   "cell_type": "markdown",
   "metadata": {},
   "source": [
    "#### 2. Usa una list comprehension para crear y imprimir una lista de numeros pares entre 2 y 200."
   ]
  },
  {
   "cell_type": "code",
   "execution_count": 3,
   "metadata": {},
   "outputs": [
    {
     "name": "stdout",
     "output_type": "stream",
     "text": [
      "[2, 4, 6, 8, 10, 12, 14, 16, 18, 20, 22, 24, 26, 28, 30, 32, 34, 36, 38, 40, 42, 44, 46, 48, 50, 52, 54, 56, 58, 60, 62, 64, 66, 68, 70, 72, 74, 76, 78, 80, 82, 84, 86, 88, 90, 92, 94, 96, 98, 100, 102, 104, 106, 108, 110, 112, 114, 116, 118, 120, 122, 124, 126, 128, 130, 132, 134, 136, 138, 140, 142, 144, 146, 148, 150, 152, 154, 156, 158, 160, 162, 164, 166, 168, 170, 172, 174, 176, 178, 180, 182, 184, 186, 188, 190, 192, 194, 196, 198, 200]\n"
     ]
    }
   ],
   "source": [
    "numeros_pares = [num for num in range(2, 201) if num % 2 == 0]\n",
    "print(numeros_pares)"
   ]
  },
  {
   "cell_type": "markdown",
   "metadata": {},
   "source": [
    "#### 3. Usa una comprensión de lista para crear e imprimir una lista que contenga todos los elementos del siguiente array de 10 x 4."
   ]
  },
  {
   "cell_type": "code",
   "execution_count": 5,
   "metadata": {},
   "outputs": [],
   "source": [
    "a = [[0.84062117, 0.48006452, 0.7876326 , 0.77109654],\n",
    "       [0.44409793, 0.09014516, 0.81835917, 0.87645456],\n",
    "       [0.7066597 , 0.09610873, 0.41247947, 0.57433389],\n",
    "       [0.29960807, 0.42315023, 0.34452557, 0.4751035 ],\n",
    "       [0.17003563, 0.46843998, 0.92796258, 0.69814654],\n",
    "       [0.41290051, 0.19561071, 0.16284783, 0.97016248],\n",
    "       [0.71725408, 0.87702738, 0.31244595, 0.76615487],\n",
    "       [0.20754036, 0.57871812, 0.07214068, 0.40356048],\n",
    "       [0.12149553, 0.53222417, 0.9976855 , 0.12536346],\n",
    "       [0.80930099, 0.50962849, 0.94555126, 0.33364763]];"
   ]
  },
  {
   "cell_type": "code",
   "execution_count": 7,
   "metadata": {},
   "outputs": [
    {
     "name": "stdout",
     "output_type": "stream",
     "text": [
      "[0.84062117, 0.48006452, 0.7876326, 0.77109654, 0.44409793, 0.09014516, 0.81835917, 0.87645456, 0.7066597, 0.09610873, 0.41247947, 0.57433389, 0.29960807, 0.42315023, 0.34452557, 0.4751035, 0.17003563, 0.46843998, 0.92796258, 0.69814654, 0.41290051, 0.19561071, 0.16284783, 0.97016248, 0.71725408, 0.87702738, 0.31244595, 0.76615487, 0.20754036, 0.57871812, 0.07214068, 0.40356048, 0.12149553, 0.53222417, 0.9976855, 0.12536346, 0.80930099, 0.50962849, 0.94555126, 0.33364763]\n"
     ]
    }
   ],
   "source": [
    "#list_array=[]\n",
    "#for i in a:\n",
    "#    for j in i:\n",
    "#        list_array.append(j)\n",
    " \n",
    "lista_elementos = [valor for fila in a for valor in fila]\n",
    "print(lista_elementos)\n",
    "\n"
   ]
  },
  {
   "cell_type": "markdown",
   "metadata": {},
   "source": [
    "#### 4. Añade una condición a la comprensión de lista anterior para que solo se impriman los valores mayores o iguales a 0.5."
   ]
  },
  {
   "cell_type": "code",
   "execution_count": 8,
   "metadata": {},
   "outputs": [
    {
     "name": "stdout",
     "output_type": "stream",
     "text": [
      "[0.84062117, 0.7876326, 0.77109654, 0.81835917, 0.87645456, 0.7066597, 0.57433389, 0.92796258, 0.69814654, 0.97016248, 0.71725408, 0.87702738, 0.76615487, 0.57871812, 0.53222417, 0.9976855, 0.80930099, 0.50962849, 0.94555126]\n"
     ]
    }
   ],
   "source": [
    "lista_mayores_igual_a_05 = [valor for fila in a for valor in fila if valor >= 0.5]\n",
    "print(lista_mayores_igual_a_05)"
   ]
  },
  {
   "cell_type": "markdown",
   "metadata": {},
   "source": [
    "#### 5. Usa una comprensión de lista para crear e imprimir una lista que contenga todos los elementos del siguiente array de 5 x 2 x 3."
   ]
  },
  {
   "cell_type": "code",
   "execution_count": 10,
   "metadata": {},
   "outputs": [],
   "source": [
    "b = [[[0.55867166, 0.06210792, 0.08147297],\n",
    "        [0.82579068, 0.91512478, 0.06833034]],\n",
    "\n",
    "       [[0.05440634, 0.65857693, 0.30296619],\n",
    "        [0.06769833, 0.96031863, 0.51293743]],\n",
    "\n",
    "       [[0.09143215, 0.71893382, 0.45850679],\n",
    "        [0.58256464, 0.59005654, 0.56266457]],\n",
    "\n",
    "       [[0.71600294, 0.87392666, 0.11434044],\n",
    "        [0.8694668 , 0.65669313, 0.10708681]],\n",
    "\n",
    "       [[0.07529684, 0.46470767, 0.47984544],\n",
    "        [0.65368638, 0.14901286, 0.23760688]]];"
   ]
  },
  {
   "cell_type": "code",
   "execution_count": 12,
   "metadata": {},
   "outputs": [
    {
     "name": "stdout",
     "output_type": "stream",
     "text": [
      "[0.55867166, 0.06210792, 0.08147297, 0.82579068, 0.91512478, 0.06833034, 0.05440634, 0.65857693, 0.30296619, 0.06769833, 0.96031863, 0.51293743, 0.09143215, 0.71893382, 0.45850679, 0.58256464, 0.59005654, 0.56266457, 0.71600294, 0.87392666, 0.11434044, 0.8694668, 0.65669313, 0.10708681, 0.07529684, 0.46470767, 0.47984544, 0.65368638, 0.14901286, 0.23760688]\n"
     ]
    }
   ],
   "source": [
    "lista_elementos = [valor for subarray in b for sublista in subarray for valor in sublista]\n",
    "print(lista_elementos)"
   ]
  },
  {
   "cell_type": "markdown",
   "metadata": {},
   "source": [
    "#### 6. Añade una condición a la comprensión de lista anterior para que se imprima el último valor en cada subarray, pero solo si es menor o igual a 0.5."
   ]
  },
  {
   "cell_type": "code",
   "execution_count": 13,
   "metadata": {},
   "outputs": [
    {
     "name": "stdout",
     "output_type": "stream",
     "text": [
      "[0.08147297, 0.06833034, 0.30296619, 0.45850679, 0.11434044, 0.10708681, 0.47984544, 0.23760688]\n"
     ]
    }
   ],
   "source": [
    "lista_ultimos_menores_igual_a_05 = [sublista[-1] for subarray in b for sublista in subarray if sublista[-1] <= 0.5]\n",
    "print(lista_ultimos_menores_igual_a_05)"
   ]
  },
  {
   "cell_type": "markdown",
   "metadata": {},
   "source": [
    "### Bonus\n",
    "\n",
    "Intenta resolver estas katas usando comprensiones de listas.\n",
    "\n",
    "**Fácil**\n",
    "- [Insertar valores](https://www.codewars.com/kata/invert-values)\n",
    "- [Suma Cuadrado(n)](https://www.codewars.com/kata/square-n-sum)\n",
    "- [Digitalizar](https://www.codewars.com/kata/digitize)\n",
    "- [Filtrado de listas](https://www.codewars.com/kata/list-filtering)\n",
    "- [Lista aritmética](https://www.codewars.com/kata/541da001259d9ca85d000688)\n",
    "\n",
    "**Medio**\n",
    "- [Múltiplos de 3 o 5](https://www.codewars.com/kata/514b92a657cdc65150000006)\n",
    "- [Conteo de positivos / suma de negativos](https://www.codewars.com/kata/count-of-positives-slash-sum-of-negatives)\n",
    "- [Categorizar nuevo miembro](https://www.codewars.com/kata/5502c9e7b3216ec63c0001aa)\n",
    "\n",
    "**Avanzado**\n",
    "- [Contador de tiempo en cola](https://www.codewars.com/kata/queue-time-counter)"
   ]
  },
  {
   "cell_type": "code",
   "execution_count": null,
   "metadata": {},
   "outputs": [],
   "source": [
    "#invertir valores"
   ]
  },
  {
   "cell_type": "code",
   "execution_count": 41,
   "metadata": {},
   "outputs": [
    {
     "name": "stdout",
     "output_type": "stream",
     "text": [
      "[-1, 2, 3, -4, -5, 6]\n"
     ]
    }
   ],
   "source": [
    "list=[1,-2,-3,4,5,-6]\n",
    "invert=[-i for i in list]\n",
    "print(invert)\n"
   ]
  },
  {
   "cell_type": "code",
   "execution_count": 14,
   "metadata": {},
   "outputs": [],
   "source": [
    "#Suma Cuadrado(n)\n",
    "\n",
    "#DESCRIPTION: Complete the square sum function so that it squares each number passed into it and then sums the results together.\n",
    "#For example, for [1, 2, 2] it should return 9 because 12+22+22=9 ."
   ]
  },
  {
   "cell_type": "code",
   "execution_count": 15,
   "metadata": {},
   "outputs": [
    {
     "name": "stdout",
     "output_type": "stream",
     "text": [
      "9\n"
     ]
    }
   ],
   "source": [
    "def square_sum(numbers):\n",
    "    return sum(x**2 for x in numbers)\n",
    "\n",
    "numbers = [1, 2, 2]\n",
    "result = square_sum(numbers)\n",
    "print(result)"
   ]
  },
  {
   "cell_type": "code",
   "execution_count": null,
   "metadata": {},
   "outputs": [],
   "source": [
    "# Digitalizar"
   ]
  },
  {
   "cell_type": "code",
   "execution_count": 8,
   "metadata": {},
   "outputs": [
    {
     "name": "stdout",
     "output_type": "stream",
     "text": [
      "[1, 2, 3, 4, 5, 6, 7, 8, 9, 8, 8, 9, 8]\n"
     ]
    },
    {
     "data": {
      "text/plain": [
       "int"
      ]
     },
     "execution_count": 8,
     "metadata": {},
     "output_type": "execute_result"
    }
   ],
   "source": [
    "int_num= 1234567898898\n",
    "\n",
    "#digit=[]\n",
    "#for char in str(int_num):\n",
    "#        digit.append(int(char))\n",
    "digit=[int(char) for char in str(int_num)]\n",
    "print(digit)"
   ]
  },
  {
   "cell_type": "code",
   "execution_count": null,
   "metadata": {},
   "outputs": [],
   "source": [
    "#Filtrado de listas\n",
    "\n",
    "#DESCRIPTION: In this kata you will create a function that takes a list of non-negative integers and strings and returns a new list with the strings filtered out.\n",
    "#Example\n",
    "#filter_list([1,2,'a','b']) == [1,2]\n",
    "#filter_list([1,'a','b',0,15]) == [1,0,15]\n",
    "#filter_list([1,2,'aasf','1','123',123]) == [1,2,123]"
   ]
  },
  {
   "cell_type": "code",
   "execution_count": 16,
   "metadata": {},
   "outputs": [
    {
     "name": "stdout",
     "output_type": "stream",
     "text": [
      "[1, 2]\n",
      "[1, 0, 15]\n",
      "[1, 2, 123]\n"
     ]
    }
   ],
   "source": [
    "def filter_list(lst):\n",
    "    return [x for x in lst if isinstance(x, int)]\n",
    "\n",
    "print(filter_list([1,2,'a','b']))\n",
    "print(filter_list([1,'a','b',0,15])) \n",
    "print(filter_list([1,2,'aasf','1','123',123]))"
   ]
  },
  {
   "cell_type": "code",
   "execution_count": null,
   "metadata": {},
   "outputs": [],
   "source": [
    "# Lista aritmetica"
   ]
  },
  {
   "cell_type": "code",
   "execution_count": 12,
   "metadata": {},
   "outputs": [
    {
     "name": "stdout",
     "output_type": "stream",
     "text": [
      "[8, 11, 14, 17, 20, 23, 26, 29, 32, 35, 38, 41, 44, 47, 50, 53, 56, 59, 62, 65]\n"
     ]
    }
   ],
   "source": [
    "#first=5\n",
    "#c=2\n",
    "#l=5\n",
    "\n",
    "#sequence=[]\n",
    "#sequence.append(first)\n",
    "#for i in range(l-1):\n",
    "#    value=sequence[i]+c\n",
    "#    sequence.append(value)\n",
    "#sequence = [first] + [sequence[i] + c for i in range(l-1)]\n",
    "def sequence(first, c, l):\n",
    "    return  [c*(i)+ first for i in range(l)]\n",
    "print(sequence(8, 3, 20))\n"
   ]
  },
  {
   "cell_type": "code",
   "execution_count": 18,
   "metadata": {},
   "outputs": [],
   "source": [
    "#Múltiplos de 3 o 5\n",
    "\n",
    "#DESCRIPTION: If we list all the natural numbers below 10 that are multiples of 3 or 5, we get 3, 5, 6 and 9. The sum of these multiples is 23.\n",
    "\n",
    "#Finish the solution so that it returns the sum of all the multiples of 3 or 5 below the number passed in.\n",
    "\n",
    "#Additionally, if the number is negative, return 0.\n",
    "\n",
    "#Note: If the number is a multiple of both 3 and 5, only count it once."
   ]
  },
  {
   "cell_type": "code",
   "execution_count": 19,
   "metadata": {},
   "outputs": [
    {
     "name": "stdout",
     "output_type": "stream",
     "text": [
      "23\n"
     ]
    }
   ],
   "source": [
    "def solution(number):\n",
    "    if number < 0:\n",
    "        return 0\n",
    "\n",
    "    total = 0\n",
    "\n",
    "    for num in range(number):\n",
    "        if num % 3 == 0 or num % 5 == 0:\n",
    "            total += num\n",
    "\n",
    "    return total\n",
    "\n",
    "print(solution(10))"
   ]
  },
  {
   "cell_type": "code",
   "execution_count": null,
   "metadata": {},
   "outputs": [],
   "source": [
    "# Conteo de positivos / suma de negativos\n",
    "\n",
    "#Given an array of integers.\n",
    "#Return an array, where the first element is the count of positives numbers and the second element is sum of negative numbers. 0 is neither positive nor negative.\n",
    "#If the input is an empty array or is null, return an empty array.\n",
    "#Example\n",
    "#For input [1, 2, 3, 4, 5, 6, 7, 8, 9, 10, -11, -12, -13, -14, -15], you should return [10, -65]."
   ]
  },
  {
   "cell_type": "code",
   "execution_count": 19,
   "metadata": {},
   "outputs": [
    {
     "name": "stdout",
     "output_type": "stream",
     "text": [
      "[10, -65]\n",
      "[]\n",
      "[]\n"
     ]
    }
   ],
   "source": [
    "#def count_sum(array_input):\n",
    "#    new_list =list([0,0])\n",
    "#    for i in array_input:\n",
    "#        if i < 0:\n",
    "#            new_list[1] +=i\n",
    "#        else:\n",
    "#            new_list[0] += 1\n",
    "#    return new_list\n",
    "\n",
    "def count_sum(array_input):\n",
    "    if array_input == None or len(array_input) == 0:\n",
    "        return []\n",
    "    else:\n",
    "        return[len([x for x in array_input if x>=0]), sum(y for y in array_input if y < 0)]\n",
    "\n",
    "print(count_sum([1, 2, 3, 4, 5, 6, 7, 8, 9, 10, -11, -12, -13, -14, -15]))\n",
    "print(count_sum([]))\n",
    "print(count_sum(None))"
   ]
  },
  {
   "cell_type": "code",
   "execution_count": null,
   "metadata": {},
   "outputs": [],
   "source": [
    "#Categorizar nuevo miembro\n",
    "\n",
    "#DESCRIPTION:\n",
    "#The Western Suburbs Croquet Club has two categories of membership, Senior and Open. They would like your help with an application form that will tell prospective members which category they will be placed.\n",
    "\n",
    "#To be a senior, a member must be at least 55 years old and have a handicap greater than 7. In this croquet club, handicaps range from -2 to +26; the better the player the lower the handicap.\n",
    "\n",
    "#Input\n",
    "#Input will consist of a list of pairs. Each pair contains information for a single potential member. Information consists of an integer for the person's age and an integer for the person's handicap.\n",
    "\n",
    "#Output\n",
    "#Output will consist of a list of string values (in Haskell and C: Open or Senior) stating whether the respective member is to be placed in the senior or open category.\n",
    "\n",
    "#Example\n",
    "#input =  [[18, 20], [45, 2], [61, 12], [37, 6], [21, 21], [78, 9]]\n",
    "#output = [\"Open\", \"Open\", \"Senior\", \"Open\", \"Open\", \"Senior\"]"
   ]
  },
  {
   "cell_type": "code",
   "execution_count": 20,
   "metadata": {},
   "outputs": [
    {
     "name": "stdout",
     "output_type": "stream",
     "text": [
      "['Open', 'Open', 'Senior', 'Open', 'Open', 'Senior']\n"
     ]
    }
   ],
   "source": [
    "def open_or_senior(data):\n",
    "    categories = []\n",
    "    for member in data:\n",
    "        age, handicap = member\n",
    "        if age >= 55 and handicap > 7:\n",
    "            categories.append(\"Senior\")\n",
    "        else:\n",
    "            categories.append(\"Open\")\n",
    "    return categories\n",
    "\n",
    "input_data = [[18, 20], [45, 2], [61, 12], [37, 6], [21, 21], [78, 9]]\n",
    "output = open_or_senior(input_data)\n",
    "print(output)"
   ]
  },
  {
   "cell_type": "code",
   "execution_count": null,
   "metadata": {},
   "outputs": [],
   "source": [
    "#Contador de tiempo en cola\n",
    "\n",
    "#You managed to send your friend to queue for tickets in your stead, but there is a catch: \n",
    "#he will get there only if you tell him how much that is going to take. And everybody can only take one ticket at a time, \n",
    "#then they go back in the last position of the queue if they need more (or go home if they are fine).\n",
    "\n",
    "#Each ticket takes one minutes to emit, the queue is well disciplined, Brit-style, and so it moves smoothly, with no waste of time.\n",
    "#You will be given an array/list/vector with all the people queuing and the initial position of your buddy, so for example, \n",
    "#knowing that your friend is in the third position (that we will consider equal to the index, 2 (3 in COBOL): \n",
    "# he is the guy that wants 3 tickets!) and the initial queue is [2, 5, 3, 4, 6].\n",
    "\n",
    "#The first dude gets his ticket and the queue goes now like this [5, 3, 4, 6, 1], then [3, 4, 6, 1, 4] and so on.\n",
    "#In the end, our buddy will be queuing for 12 minutes, true story!\n",
    "\n",
    "#Build a function to compute it, resting assured that only positive integers are going to be there and you will be always given a valid index; \n",
    "#but we also want to go to pretty popular events, so be ready for big queues with people getting plenty of tickets.\n",
    "\n",
    "# Lograste enviar a tu amigo a hacer la cola para los boletos en tu lugar, pero hay un truco: \n",
    "# solo llegará allí si le dices cuánto tiempo tomará. Y cada persona solo puede tomar un boleto a la vez, \n",
    "# luego regresan a la última posición de la cola si necesitan más (o se van a casa si están satisfechos).\n",
    "\n",
    "# Cada boleto tarda un minuto en emitirse, la cola es disciplinada, al estilo británico, y se mueve suavemente, sin desperdicio de tiempo.\n",
    "\n",
    "# Se te dará una matriz/lista con todas las personas haciendo cola y la posición inicial de tu amigo, así que por ejemplo, \n",
    "# si sabes que tu amigo está en la tercera posición (que consideraremos igual al índice, 2) y la cola inicial es [2, 5, 3, 4, 6].\n",
    "\n",
    "# El primer individuo obtiene su boleto y la cola ahora se ve así [5, 3, 4, 6, 1], luego [3, 4, 6, 1, 4] y así sucesivamente.\n",
    "# Al final, nuestro amigo estará haciendo cola durante 12 minutos, ¡historia real!\n",
    "\n",
    "# Crea una función para calcularlo, asegurándote de que solo habrá enteros positivos y siempre se te dará un índice válido; \n",
    "# pero también queremos ir a eventos bastante populares, así que prepárate para grandes colas con personas obteniendo muchos boletos.\n"
   ]
  },
  {
   "cell_type": "code",
   "execution_count": 4,
   "metadata": {},
   "outputs": [
    {
     "name": "stdout",
     "output_type": "stream",
     "text": [
      "[[3, 1], [2, 0], [6, 0], [3, 0], [1, 0]]\n",
      "[[2, 0], [6, 0], [3, 0], [1, 0], [2, 1]]\n",
      "[[6, 0], [3, 0], [1, 0], [2, 1], [1, 0]]\n",
      "[[3, 0], [1, 0], [2, 1], [1, 0], [5, 0]]\n",
      "[[1, 0], [2, 1], [1, 0], [5, 0], [2, 0]]\n",
      "[[2, 1], [1, 0], [5, 0], [2, 0]]\n",
      "[[1, 0], [5, 0], [2, 0], [1, 1]]\n",
      "[[5, 0], [2, 0], [1, 1]]\n",
      "[[2, 0], [1, 1], [4, 0]]\n",
      "[[1, 1], [4, 0], [1, 0]]\n",
      "[[4, 0], [1, 0], [0, 1]]\n",
      "11\n"
     ]
    }
   ],
   "source": [
    "def new_cola(cola, pos_i):\n",
    "    new_cola = list()\n",
    "    counter = 0\n",
    "    for i in cola:\n",
    "        if counter != pos_i:\n",
    "            new_cola.append([i, 0])  \n",
    "        else:\n",
    "            new_cola.append([i, 1])  \n",
    "        counter += 1\n",
    "    return new_cola\n",
    "def rotate(cola):\n",
    "    if cola[0][0] == 1 and cola[0][1] == 0:\n",
    "        del cola[0]\n",
    "    else:\n",
    "        cola.append(cola[0])\n",
    "        cola[-1][0] -= 1 \n",
    "        del cola[0]\n",
    "    return cola\n",
    "def counter_time(cola, pos_i):\n",
    "    cola= new_cola(cola, pos_i)\n",
    "    counter = 0\n",
    "    while cola[-1] != [0,1]:\n",
    "        cola= rotate(cola)\n",
    "        print(cola)\n",
    "        counter +=1\n",
    "    return(counter)\n",
    "\n",
    "print (counter_time([2,3,2,6,3], 1))\n",
    "\n"
   ]
  },
  {
   "cell_type": "code",
   "execution_count": null,
   "metadata": {},
   "outputs": [],
   "source": []
  }
 ],
 "metadata": {
  "kernelspec": {
   "display_name": "Python 3 (ipykernel)",
   "language": "python",
   "name": "python3"
  },
  "language_info": {
   "codemirror_mode": {
    "name": "ipython",
    "version": 3
   },
   "file_extension": ".py",
   "mimetype": "text/x-python",
   "name": "python",
   "nbconvert_exporter": "python",
   "pygments_lexer": "ipython3",
   "version": "3.10.12"
  },
  "vscode": {
   "interpreter": {
    "hash": "aee8b7b246df8f9039afb4144a1f6fd8d2ca17a180786b69acc140d282b71a49"
   }
  }
 },
 "nbformat": 4,
 "nbformat_minor": 4
}
